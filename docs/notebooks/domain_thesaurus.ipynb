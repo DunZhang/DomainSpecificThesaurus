{
 "cells": [
  {
   "cell_type": "markdown",
   "metadata": {
    "collapsed": true
   },
   "source": [
    "This a simple tutorial to extract a domain thesaurus."
   ]
  },
  {
   "cell_type": "code",
   "execution_count": null,
   "metadata": {},
   "outputs": [],
   "source": [
    "import os\n",
    "import codecs\n",
    "import DST\n",
    "# you can set your own output directory path\n",
    "DEFAULT_OUT_DIR = os.path.dirname(os.getcwd())\n",
    "from DST.domain_thesaurus.DomainThesaurus import DomainThesaurus\n",
    "from DST.datasets.DownloadData import DownloadData"
   ]
  },
  {
   "cell_type": "code",
   "execution_count": null,
   "metadata": {},
   "outputs": [],
   "source": [
    "# First, you should get clean domain corpus and  general vocabulary. This may takes a long time.\n",
    "# We already provide clean domain corpus and general vocabulary, so you can download and use them.\n",
    "\n",
    "download_data = DownloadData()\n",
    "# download the domain corpus\n",
    "download_data.download_data(os.path.join(DEFAULT_OUT_DIR, \"eng_corpus.zip\"), download_file_name=\"eng_corpus\",\n",
    "                            overwrite=False)\n",
    "# download general vocab\n",
    "download_data.download_data(os.path.join(DEFAULT_OUT_DIR, \"general_vocab.zip\"), download_file_name=\"general_vocab\",\n",
    "                            overwrite=False)"
   ]
  },
  {
   "cell_type": "code",
   "execution_count": null,
   "metadata": {},
   "outputs": [],
   "source": [
    "\n",
    "# start to extract domain thesaurus\n",
    "# for different datasets,  you should set different parameters\n",
    "# In this example, we use default parameters\n",
    "# The \"cleanEng.txt\" and \"general_vocab.json\" are the files you download\n",
    "dst = DomainThesaurus(domain_specific_corpus_path=os.path.join(DEFAULT_OUT_DIR, \"cleanEng.txt\"),\n",
    "                      general_vocab_path=os.path.join(DEFAULT_OUT_DIR, \"general_vocab.json\"),\n",
    "                      outputDir=DEFAULT_OUT_DIR)\n",
    "eng_domain_thesaurus = dst.extract()\n"
   ]
  },
  {
   "cell_type": "code",
   "execution_count": null,
   "metadata": {},
   "outputs": [],
   "source": []
  }
 ],
 "metadata": {
  "kernelspec": {
   "display_name": "Python 2",
   "language": "python",
   "name": "python2"
  },
  "language_info": {
   "codemirror_mode": {
    "name": "ipython",
    "version": 2
   },
   "file_extension": ".py",
   "mimetype": "text/x-python",
   "name": "python",
   "nbconvert_exporter": "python",
   "pygments_lexer": "ipython2",
   "version": "2.7.6"
  }
 },
 "nbformat": 4,
 "nbformat_minor": 0
}
